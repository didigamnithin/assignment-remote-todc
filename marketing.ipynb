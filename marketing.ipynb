{
 "cells": [
  {
   "cell_type": "code",
   "execution_count": 1,
   "id": "28a99cb9",
   "metadata": {},
   "outputs": [],
   "source": [
    "import pandas as pd"
   ]
  },
  {
   "cell_type": "code",
   "execution_count": 2,
   "id": "dd4e1d6b",
   "metadata": {},
   "outputs": [],
   "source": [
    "marketing_data = pd.read_csv('doordash powers marketing.csv')"
   ]
  },
  {
   "cell_type": "code",
   "execution_count": 3,
   "id": "d072f340",
   "metadata": {},
   "outputs": [
    {
     "data": {
      "text/html": [
       "<div>\n",
       "<style scoped>\n",
       "    .dataframe tbody tr th:only-of-type {\n",
       "        vertical-align: middle;\n",
       "    }\n",
       "\n",
       "    .dataframe tbody tr th {\n",
       "        vertical-align: top;\n",
       "    }\n",
       "\n",
       "    .dataframe thead th {\n",
       "        text-align: right;\n",
       "    }\n",
       "</style>\n",
       "<table border=\"1\" class=\"dataframe\">\n",
       "  <thead>\n",
       "    <tr style=\"text-align: right;\">\n",
       "      <th></th>\n",
       "      <th>Date</th>\n",
       "      <th>Is Self Serve Campaign</th>\n",
       "      <th>Campaign ID</th>\n",
       "      <th>Campaign Name</th>\n",
       "      <th>Type of Promotion</th>\n",
       "      <th>Campaign Start Date</th>\n",
       "      <th>Campaign End Date</th>\n",
       "      <th>Store ID</th>\n",
       "      <th>Store Name</th>\n",
       "      <th>Currency</th>\n",
       "      <th>...</th>\n",
       "      <th>DoorDash Marketing Credit</th>\n",
       "      <th>Third-party Contribution</th>\n",
       "      <th>Average Order Value</th>\n",
       "      <th>ROAS</th>\n",
       "      <th>New Customers Acquired</th>\n",
       "      <th>Existing Customers Acquired</th>\n",
       "      <th>Total Customers Acquired</th>\n",
       "      <th>New DP Customers Acquired</th>\n",
       "      <th>Existing DP Customers Acquired</th>\n",
       "      <th>Total DP Customers Acquired</th>\n",
       "    </tr>\n",
       "  </thead>\n",
       "  <tbody>\n",
       "    <tr>\n",
       "      <th>0</th>\n",
       "      <td>2025-06-02</td>\n",
       "      <td>False</td>\n",
       "      <td>4eba9762-786f-4fc4-aede-412b8bdcb990</td>\n",
       "      <td>mcd-freebm15-060125-063025-newcx-lapsed-1-v2</td>\n",
       "      <td>Custom campaign</td>\n",
       "      <td>2025-06-01</td>\n",
       "      <td>2025-07-01</td>\n",
       "      <td>657157</td>\n",
       "      <td>McDonald's (1447-LINDNWLD-W HORSE)</td>\n",
       "      <td>USD</td>\n",
       "      <td>...</td>\n",
       "      <td>0.0</td>\n",
       "      <td>0.0</td>\n",
       "      <td>34.96</td>\n",
       "      <td>4.43</td>\n",
       "      <td>0</td>\n",
       "      <td>0</td>\n",
       "      <td>1</td>\n",
       "      <td>0</td>\n",
       "      <td>0</td>\n",
       "      <td>0</td>\n",
       "    </tr>\n",
       "    <tr>\n",
       "      <th>1</th>\n",
       "      <td>2025-06-03</td>\n",
       "      <td>False</td>\n",
       "      <td>4eba9762-786f-4fc4-aede-412b8bdcb990</td>\n",
       "      <td>mcd-freebm15-060125-063025-newcx-lapsed-1-v2</td>\n",
       "      <td>Custom campaign</td>\n",
       "      <td>2025-06-01</td>\n",
       "      <td>2025-07-01</td>\n",
       "      <td>657157</td>\n",
       "      <td>McDonald's (1447-LINDNWLD-W HORSE)</td>\n",
       "      <td>USD</td>\n",
       "      <td>...</td>\n",
       "      <td>0.0</td>\n",
       "      <td>0.0</td>\n",
       "      <td>27.45</td>\n",
       "      <td>3.48</td>\n",
       "      <td>2</td>\n",
       "      <td>2</td>\n",
       "      <td>4</td>\n",
       "      <td>0</td>\n",
       "      <td>1</td>\n",
       "      <td>1</td>\n",
       "    </tr>\n",
       "    <tr>\n",
       "      <th>2</th>\n",
       "      <td>2025-06-04</td>\n",
       "      <td>False</td>\n",
       "      <td>4eba9762-786f-4fc4-aede-412b8bdcb990</td>\n",
       "      <td>mcd-freebm15-060125-063025-newcx-lapsed-1-v2</td>\n",
       "      <td>Custom campaign</td>\n",
       "      <td>2025-06-01</td>\n",
       "      <td>2025-07-01</td>\n",
       "      <td>657157</td>\n",
       "      <td>McDonald's (1447-LINDNWLD-W HORSE)</td>\n",
       "      <td>USD</td>\n",
       "      <td>...</td>\n",
       "      <td>0.0</td>\n",
       "      <td>0.0</td>\n",
       "      <td>25.92</td>\n",
       "      <td>3.28</td>\n",
       "      <td>0</td>\n",
       "      <td>2</td>\n",
       "      <td>2</td>\n",
       "      <td>0</td>\n",
       "      <td>1</td>\n",
       "      <td>1</td>\n",
       "    </tr>\n",
       "    <tr>\n",
       "      <th>3</th>\n",
       "      <td>2025-06-05</td>\n",
       "      <td>False</td>\n",
       "      <td>64037fd1-de6c-4ed7-9f08-3b0e5eac5333</td>\n",
       "      <td>mcd-freelfry15-060525-061525-allcx</td>\n",
       "      <td>Custom campaign</td>\n",
       "      <td>2025-06-05</td>\n",
       "      <td>2025-06-16</td>\n",
       "      <td>657157</td>\n",
       "      <td>McDonald's (1447-LINDNWLD-W HORSE)</td>\n",
       "      <td>USD</td>\n",
       "      <td>...</td>\n",
       "      <td>0.0</td>\n",
       "      <td>0.0</td>\n",
       "      <td>30.61</td>\n",
       "      <td>5.29</td>\n",
       "      <td>0</td>\n",
       "      <td>14</td>\n",
       "      <td>14</td>\n",
       "      <td>0</td>\n",
       "      <td>8</td>\n",
       "      <td>8</td>\n",
       "    </tr>\n",
       "    <tr>\n",
       "      <th>4</th>\n",
       "      <td>2025-06-05</td>\n",
       "      <td>False</td>\n",
       "      <td>4eba9762-786f-4fc4-aede-412b8bdcb990</td>\n",
       "      <td>mcd-freebm15-060125-063025-newcx-lapsed-1-v2</td>\n",
       "      <td>Custom campaign</td>\n",
       "      <td>2025-06-01</td>\n",
       "      <td>2025-07-01</td>\n",
       "      <td>657157</td>\n",
       "      <td>McDonald's (1447-LINDNWLD-W HORSE)</td>\n",
       "      <td>USD</td>\n",
       "      <td>...</td>\n",
       "      <td>0.0</td>\n",
       "      <td>0.0</td>\n",
       "      <td>21.42</td>\n",
       "      <td>2.71</td>\n",
       "      <td>2</td>\n",
       "      <td>0</td>\n",
       "      <td>2</td>\n",
       "      <td>2</td>\n",
       "      <td>0</td>\n",
       "      <td>2</td>\n",
       "    </tr>\n",
       "  </tbody>\n",
       "</table>\n",
       "<p>5 rows × 26 columns</p>\n",
       "</div>"
      ],
      "text/plain": [
       "         Date  Is Self Serve Campaign                           Campaign ID  \\\n",
       "0  2025-06-02                   False  4eba9762-786f-4fc4-aede-412b8bdcb990   \n",
       "1  2025-06-03                   False  4eba9762-786f-4fc4-aede-412b8bdcb990   \n",
       "2  2025-06-04                   False  4eba9762-786f-4fc4-aede-412b8bdcb990   \n",
       "3  2025-06-05                   False  64037fd1-de6c-4ed7-9f08-3b0e5eac5333   \n",
       "4  2025-06-05                   False  4eba9762-786f-4fc4-aede-412b8bdcb990   \n",
       "\n",
       "                                  Campaign Name Type of Promotion  \\\n",
       "0  mcd-freebm15-060125-063025-newcx-lapsed-1-v2   Custom campaign   \n",
       "1  mcd-freebm15-060125-063025-newcx-lapsed-1-v2   Custom campaign   \n",
       "2  mcd-freebm15-060125-063025-newcx-lapsed-1-v2   Custom campaign   \n",
       "3            mcd-freelfry15-060525-061525-allcx   Custom campaign   \n",
       "4  mcd-freebm15-060125-063025-newcx-lapsed-1-v2   Custom campaign   \n",
       "\n",
       "  Campaign Start Date Campaign End Date  Store ID  \\\n",
       "0          2025-06-01        2025-07-01    657157   \n",
       "1          2025-06-01        2025-07-01    657157   \n",
       "2          2025-06-01        2025-07-01    657157   \n",
       "3          2025-06-05        2025-06-16    657157   \n",
       "4          2025-06-01        2025-07-01    657157   \n",
       "\n",
       "                           Store Name Currency  ...  \\\n",
       "0  McDonald's (1447-LINDNWLD-W HORSE)      USD  ...   \n",
       "1  McDonald's (1447-LINDNWLD-W HORSE)      USD  ...   \n",
       "2  McDonald's (1447-LINDNWLD-W HORSE)      USD  ...   \n",
       "3  McDonald's (1447-LINDNWLD-W HORSE)      USD  ...   \n",
       "4  McDonald's (1447-LINDNWLD-W HORSE)      USD  ...   \n",
       "\n",
       "   DoorDash Marketing Credit  Third-party Contribution  Average Order Value  \\\n",
       "0                        0.0                       0.0                34.96   \n",
       "1                        0.0                       0.0                27.45   \n",
       "2                        0.0                       0.0                25.92   \n",
       "3                        0.0                       0.0                30.61   \n",
       "4                        0.0                       0.0                21.42   \n",
       "\n",
       "   ROAS  New Customers Acquired  Existing Customers Acquired  \\\n",
       "0  4.43                       0                            0   \n",
       "1  3.48                       2                            2   \n",
       "2  3.28                       0                            2   \n",
       "3  5.29                       0                           14   \n",
       "4  2.71                       2                            0   \n",
       "\n",
       "   Total Customers Acquired  New DP Customers Acquired  \\\n",
       "0                         1                          0   \n",
       "1                         4                          0   \n",
       "2                         2                          0   \n",
       "3                        14                          0   \n",
       "4                         2                          2   \n",
       "\n",
       "   Existing DP Customers Acquired  Total DP Customers Acquired  \n",
       "0                               0                            0  \n",
       "1                               1                            1  \n",
       "2                               1                            1  \n",
       "3                               8                            8  \n",
       "4                               0                            2  \n",
       "\n",
       "[5 rows x 26 columns]"
      ]
     },
     "execution_count": 3,
     "metadata": {},
     "output_type": "execute_result"
    }
   ],
   "source": [
    "marketing_data.head()"
   ]
  },
  {
   "cell_type": "code",
   "execution_count": 4,
   "id": "e4e204e7",
   "metadata": {},
   "outputs": [
    {
     "data": {
      "text/plain": [
       "Index(['Date', 'Is Self Serve Campaign', 'Campaign ID', 'Campaign Name',\n",
       "       'Type of Promotion', 'Campaign Start Date', 'Campaign End Date',\n",
       "       'Store ID', 'Store Name', 'Currency', 'Orders', 'Sales',\n",
       "       'Customer Discounts from Marketing | (Funded by you)',\n",
       "       'Customer Discounts from Marketing | (Funded by DoorDash)',\n",
       "       'Customer Discounts from Marketing | (Funded by a Third-party)',\n",
       "       'Marketing Fees | (Including any applicable taxes)',\n",
       "       'DoorDash Marketing Credit', 'Third-party Contribution',\n",
       "       'Average Order Value', 'ROAS', 'New Customers Acquired',\n",
       "       'Existing Customers Acquired', 'Total Customers Acquired',\n",
       "       'New DP Customers Acquired', 'Existing DP Customers Acquired',\n",
       "       'Total DP Customers Acquired'],\n",
       "      dtype='object')"
      ]
     },
     "execution_count": 4,
     "metadata": {},
     "output_type": "execute_result"
    }
   ],
   "source": [
    "marketing_data.columns"
   ]
  },
  {
   "cell_type": "code",
   "execution_count": 5,
   "id": "ecdc8bea",
   "metadata": {},
   "outputs": [],
   "source": [
    "# 1. Ensure your Date column is datetime\n",
    "marketing_data['Date'] = pd.to_datetime(marketing_data['Date'])"
   ]
  },
  {
   "cell_type": "code",
   "execution_count": 6,
   "id": "b4fe65f3",
   "metadata": {},
   "outputs": [],
   "source": [
    "\n",
    "\n",
    "# 2. Define your two periods\n",
    "pre_mask  = (marketing_data['Date'] >= '2025-06-01') & (marketing_data['Date'] <= '2025-07-02')\n",
    "post_mask = (marketing_data['Date'] >= '2025-07-03') & (marketing_data['Date'] <= '2025-08-03')\n",
    "\n",
    "pre_data  = marketing_data.loc[pre_mask]\n",
    "post_data = marketing_data.loc[post_mask]\n",
    "\n",
    "# 3. Pick which metrics you want to compare\n",
    "metrics = [\n",
    "    'Orders',\n",
    "    'Sales',\n",
    "    'Customer Discounts from Marketing | (Funded by you)',\n",
    "    'Marketing Fees | (Including any applicable taxes)',\n",
    "    'Average Order Value',\n",
    "    'ROAS',\n",
    "    'New Customers Acquired',\n",
    "    'Total Customers Acquired',\n",
    "    # … add more as needed\n",
    "]\n",
    "\n",
    "# 4. Aggregate (here we use sum; you could also do .mean(), .median(), etc.)\n",
    "pre_summary  = pre_data[metrics].sum().rename('Pre Sum')\n",
    "post_summary = post_data[metrics].sum().rename('Post Sum')\n",
    "\n",
    "# 5. Build a single comparison DataFrame\n",
    "comparison = pd.concat([pre_summary, post_summary], axis=1)\n",
    "comparison['Δ Absolute']   = comparison['Post Sum'] - comparison['Pre Sum']\n",
    "comparison['Δ % Change']   = (comparison['Δ Absolute'] / comparison['Pre Sum']) * 100\n",
    "\n"
   ]
  },
  {
   "cell_type": "code",
   "execution_count": 8,
   "id": "f3930957",
   "metadata": {},
   "outputs": [
    {
     "data": {
      "text/html": [
       "<div>\n",
       "<style scoped>\n",
       "    .dataframe tbody tr th:only-of-type {\n",
       "        vertical-align: middle;\n",
       "    }\n",
       "\n",
       "    .dataframe tbody tr th {\n",
       "        vertical-align: top;\n",
       "    }\n",
       "\n",
       "    .dataframe thead th {\n",
       "        text-align: right;\n",
       "    }\n",
       "</style>\n",
       "<table border=\"1\" class=\"dataframe\">\n",
       "  <thead>\n",
       "    <tr style=\"text-align: right;\">\n",
       "      <th></th>\n",
       "      <th>Pre Sum</th>\n",
       "      <th>Post Sum</th>\n",
       "      <th>Δ Absolute</th>\n",
       "      <th>Δ % Change</th>\n",
       "    </tr>\n",
       "  </thead>\n",
       "  <tbody>\n",
       "    <tr>\n",
       "      <th>Orders</th>\n",
       "      <td>2202.00</td>\n",
       "      <td>9035.00</td>\n",
       "      <td>6833.00</td>\n",
       "      <td>310.308810</td>\n",
       "    </tr>\n",
       "    <tr>\n",
       "      <th>Sales</th>\n",
       "      <td>61419.46</td>\n",
       "      <td>229031.89</td>\n",
       "      <td>167612.43</td>\n",
       "      <td>272.897922</td>\n",
       "    </tr>\n",
       "    <tr>\n",
       "      <th>Customer Discounts from Marketing | (Funded by you)</th>\n",
       "      <td>14270.32</td>\n",
       "      <td>49133.25</td>\n",
       "      <td>34862.93</td>\n",
       "      <td>244.303772</td>\n",
       "    </tr>\n",
       "    <tr>\n",
       "      <th>Marketing Fees | (Including any applicable taxes)</th>\n",
       "      <td>0.00</td>\n",
       "      <td>6229.37</td>\n",
       "      <td>6229.37</td>\n",
       "      <td>inf</td>\n",
       "    </tr>\n",
       "    <tr>\n",
       "      <th>Average Order Value</th>\n",
       "      <td>11626.04</td>\n",
       "      <td>27279.48</td>\n",
       "      <td>15653.44</td>\n",
       "      <td>134.641202</td>\n",
       "    </tr>\n",
       "    <tr>\n",
       "      <th>ROAS</th>\n",
       "      <td>1720.46</td>\n",
       "      <td>3976.18</td>\n",
       "      <td>2255.72</td>\n",
       "      <td>131.111447</td>\n",
       "    </tr>\n",
       "    <tr>\n",
       "      <th>New Customers Acquired</th>\n",
       "      <td>96.00</td>\n",
       "      <td>404.00</td>\n",
       "      <td>308.00</td>\n",
       "      <td>320.833333</td>\n",
       "    </tr>\n",
       "    <tr>\n",
       "      <th>Total Customers Acquired</th>\n",
       "      <td>2188.00</td>\n",
       "      <td>8923.00</td>\n",
       "      <td>6735.00</td>\n",
       "      <td>307.815356</td>\n",
       "    </tr>\n",
       "  </tbody>\n",
       "</table>\n",
       "</div>"
      ],
      "text/plain": [
       "                                                     Pre Sum   Post Sum  \\\n",
       "Orders                                               2202.00    9035.00   \n",
       "Sales                                               61419.46  229031.89   \n",
       "Customer Discounts from Marketing | (Funded by ...  14270.32   49133.25   \n",
       "Marketing Fees | (Including any applicable taxes)       0.00    6229.37   \n",
       "Average Order Value                                 11626.04   27279.48   \n",
       "ROAS                                                 1720.46    3976.18   \n",
       "New Customers Acquired                                 96.00     404.00   \n",
       "Total Customers Acquired                             2188.00    8923.00   \n",
       "\n",
       "                                                    Δ Absolute  Δ % Change  \n",
       "Orders                                                 6833.00  310.308810  \n",
       "Sales                                                167612.43  272.897922  \n",
       "Customer Discounts from Marketing | (Funded by ...    34862.93  244.303772  \n",
       "Marketing Fees | (Including any applicable taxes)      6229.37         inf  \n",
       "Average Order Value                                   15653.44  134.641202  \n",
       "ROAS                                                   2255.72  131.111447  \n",
       "New Customers Acquired                                  308.00  320.833333  \n",
       "Total Customers Acquired                               6735.00  307.815356  "
      ]
     },
     "execution_count": 8,
     "metadata": {},
     "output_type": "execute_result"
    }
   ],
   "source": [
    "comparison"
   ]
  },
  {
   "cell_type": "code",
   "execution_count": 9,
   "id": "e6ad574e",
   "metadata": {},
   "outputs": [
    {
     "ename": "NameError",
     "evalue": "name 'daily' is not defined",
     "output_type": "error",
     "traceback": [
      "\u001b[0;31m---------------------------------------------------------------------------\u001b[0m",
      "\u001b[0;31mNameError\u001b[0m                                 Traceback (most recent call last)",
      "Cell \u001b[0;32mIn[9], line 6\u001b[0m\n\u001b[1;32m      4\u001b[0m \u001b[38;5;66;03m# assume `daily` is your DataFrame with a DatetimeIndex and a column called 'Orders'\u001b[39;00m\n\u001b[1;32m      5\u001b[0m fig, ax \u001b[38;5;241m=\u001b[39m plt\u001b[38;5;241m.\u001b[39msubplots(figsize\u001b[38;5;241m=\u001b[39m(\u001b[38;5;241m8\u001b[39m,\u001b[38;5;241m4\u001b[39m))\n\u001b[0;32m----> 6\u001b[0m ax\u001b[38;5;241m.\u001b[39mplot(\u001b[43mdaily\u001b[49m\u001b[38;5;241m.\u001b[39mindex, daily[\u001b[38;5;124m'\u001b[39m\u001b[38;5;124mOrders\u001b[39m\u001b[38;5;124m'\u001b[39m])\n\u001b[1;32m      8\u001b[0m \u001b[38;5;66;03m# set up the formatter to show MM/DD\u001b[39;00m\n\u001b[1;32m      9\u001b[0m ax\u001b[38;5;241m.\u001b[39mxaxis\u001b[38;5;241m.\u001b[39mset_major_formatter(mdates\u001b[38;5;241m.\u001b[39mDateFormatter(\u001b[38;5;124m'\u001b[39m\u001b[38;5;124m%\u001b[39m\u001b[38;5;124mm/\u001b[39m\u001b[38;5;132;01m%d\u001b[39;00m\u001b[38;5;124m'\u001b[39m))\n",
      "\u001b[0;31mNameError\u001b[0m: name 'daily' is not defined"
     ]
    },
    {
     "data": {
      "image/png": "[encoded data removed]",
      "text/plain": [
       "<Figure size 800x400 with 1 Axes>"
      ]
     },
     "metadata": {},
     "output_type": "display_data"
    }
   ],
   "source": [
    "import matplotlib.pyplot as plt\n",
    "import matplotlib.dates as mdates\n",
    "\n",
    "# assume `daily` is your DataFrame with a DatetimeIndex and a column called 'Orders'\n",
    "fig, ax = plt.subplots(figsize=(8,4))\n",
    "ax.plot(daily.index, daily['Orders'])\n",
    "\n",
    "# set up the formatter to show MM/DD\n",
    "ax.xaxis.set_major_formatter(mdates.DateFormatter('%m/%d'))\n",
    "\n",
    "# optionally auto-rotate & align the tick labels\n",
    "fig.autofmt_xdate()\n",
    "\n",
    "ax.set_title('Daily Orders')\n",
    "ax.set_xlabel('Date (MM/DD)')\n",
    "ax.set_ylabel('Orders')\n",
    "plt.show()\n"
   ]
  },
  {
   "cell_type": "code",
   "execution_count": 9,
   "id": "88fdd9ba",
   "metadata": {},
   "outputs": [
    {
     "ename": "NameError",
     "evalue": "name 'daily' is not defined",
     "output_type": "error",
     "traceback": [
      "\u001b[31m---------------------------------------------------------------------------\u001b[39m",
      "\u001b[31mNameError\u001b[39m                                 Traceback (most recent call last)",
      "\u001b[36mCell\u001b[39m\u001b[36m \u001b[39m\u001b[32mIn[9]\u001b[39m\u001b[32m, line 6\u001b[39m\n\u001b[32m      4\u001b[39m \u001b[38;5;66;03m# assume `daily` is your DataFrame with a DatetimeIndex and a column called 'Orders'\u001b[39;00m\n\u001b[32m      5\u001b[39m fig, ax = plt.subplots(figsize=(\u001b[32m8\u001b[39m,\u001b[32m4\u001b[39m))\n\u001b[32m----> \u001b[39m\u001b[32m6\u001b[39m ax.plot(\u001b[43mdaily\u001b[49m.index, daily[\u001b[33m'\u001b[39m\u001b[33mSales\u001b[39m\u001b[33m'\u001b[39m])\n\u001b[32m      8\u001b[39m \u001b[38;5;66;03m# set up the formatter to show MM/DD\u001b[39;00m\n\u001b[32m      9\u001b[39m ax.xaxis.set_major_formatter(mdates.DateFormatter(\u001b[33m'\u001b[39m\u001b[33m%\u001b[39m\u001b[33mm/\u001b[39m\u001b[38;5;132;01m%d\u001b[39;00m\u001b[33m'\u001b[39m))\n",
      "\u001b[31mNameError\u001b[39m: name 'daily' is not defined"
     ]
    },
    {
     "data": {
      "image/png": "[encoded data removed]",
      "text/plain": [
       "<Figure size 800x400 with 1 Axes>"
      ]
     },
     "metadata": {},
     "output_type": "display_data"
    }
   ],
   "source": [
    "import matplotlib.pyplot as plt\n",
    "import matplotlib.dates as mdates\n",
    "\n",
    "# assume `daily` is your DataFrame with a DatetimeIndex and a column called 'Orders'\n",
    "fig, ax = plt.subplots(figsize=(8,4))\n",
    "ax.plot(daily.index, daily['Sales'])\n",
    "\n",
    "# set up the formatter to show MM/DD\n",
    "ax.xaxis.set_major_formatter(mdates.DateFormatter('%m/%d'))\n",
    "\n",
    "# optionally auto-rotate & align the tick labels\n",
    "fig.autofmt_xdate()\n",
    "\n",
    "ax.set_title('Sales')\n",
    "ax.set_xlabel('Date (MM/DD)')\n",
    "ax.set_ylabel('Orders')\n",
    "plt.show()\n"
   ]
  },
  {
   "cell_type": "code",
   "execution_count": 10,
   "id": "c2841e07",
   "metadata": {},
   "outputs": [
    {
     "ename": "NameError",
     "evalue": "name 'daily' is not defined",
     "output_type": "error",
     "traceback": [
      "\u001b[0;31m---------------------------------------------------------------------------\u001b[0m",
      "\u001b[0;31mNameError\u001b[0m                                 Traceback (most recent call last)",
      "Cell \u001b[0;32mIn[10], line 6\u001b[0m\n\u001b[1;32m      4\u001b[0m \u001b[38;5;66;03m# assume `daily` is your DataFrame with a DatetimeIndex and a column called 'Orders'\u001b[39;00m\n\u001b[1;32m      5\u001b[0m fig, ax \u001b[38;5;241m=\u001b[39m plt\u001b[38;5;241m.\u001b[39msubplots(figsize\u001b[38;5;241m=\u001b[39m(\u001b[38;5;241m8\u001b[39m,\u001b[38;5;241m4\u001b[39m))\n\u001b[0;32m----> 6\u001b[0m ax\u001b[38;5;241m.\u001b[39mplot(\u001b[43mdaily\u001b[49m\u001b[38;5;241m.\u001b[39mindex, daily[\u001b[38;5;124m'\u001b[39m\u001b[38;5;124mAverage Order Value\u001b[39m\u001b[38;5;124m'\u001b[39m])\n\u001b[1;32m      8\u001b[0m \u001b[38;5;66;03m# set up the formatter to show MM/DD\u001b[39;00m\n\u001b[1;32m      9\u001b[0m ax\u001b[38;5;241m.\u001b[39mxaxis\u001b[38;5;241m.\u001b[39mset_major_formatter(mdates\u001b[38;5;241m.\u001b[39mDateFormatter(\u001b[38;5;124m'\u001b[39m\u001b[38;5;124m%\u001b[39m\u001b[38;5;124mm/\u001b[39m\u001b[38;5;132;01m%d\u001b[39;00m\u001b[38;5;124m'\u001b[39m))\n",
      "\u001b[0;31mNameError\u001b[0m: name 'daily' is not defined"
     ]
    },
    {
     "data": {
      "image/png": "[encoded data removed]",
      "text/plain": [
       "<Figure size 800x400 with 1 Axes>"
      ]
     },
     "metadata": {},
     "output_type": "display_data"
    }
   ],
   "source": [
    "import matplotlib.pyplot as plt\n",
    "import matplotlib.dates as mdates\n",
    "\n",
    "# assume `daily` is your DataFrame with a DatetimeIndex and a column called 'Orders'\n",
    "fig, ax = plt.subplots(figsize=(8,4))\n",
    "ax.plot(daily.index, daily['Average Order Value'])\n",
    "\n",
    "# set up the formatter to show MM/DD\n",
    "ax.xaxis.set_major_formatter(mdates.DateFormatter('%m/%d'))\n",
    "\n",
    "# optionally auto-rotate & align the tick labels\n",
    "fig.autofmt_xdate()\n",
    "\n",
    "ax.set_title('Sales')\n",
    "ax.set_xlabel('Date (MM/DD)')\n",
    "ax.set_ylabel('Orders')\n",
    "plt.show()\n"
   ]
  },
  {
   "cell_type": "code",
   "execution_count": 11,
   "id": "6a1671aa",
   "metadata": {},
   "outputs": [
    {
     "ename": "NameError",
     "evalue": "name 'daily' is not defined",
     "output_type": "error",
     "traceback": [
      "\u001b[0;31m---------------------------------------------------------------------------\u001b[0m",
      "\u001b[0;31mNameError\u001b[0m                                 Traceback (most recent call last)",
      "Cell \u001b[0;32mIn[11], line 6\u001b[0m\n\u001b[1;32m      4\u001b[0m \u001b[38;5;66;03m# assume `daily` is your DataFrame with a DatetimeIndex and a column called 'Orders'\u001b[39;00m\n\u001b[1;32m      5\u001b[0m fig, ax \u001b[38;5;241m=\u001b[39m plt\u001b[38;5;241m.\u001b[39msubplots(figsize\u001b[38;5;241m=\u001b[39m(\u001b[38;5;241m8\u001b[39m,\u001b[38;5;241m4\u001b[39m))\n\u001b[0;32m----> 6\u001b[0m ax\u001b[38;5;241m.\u001b[39mplot(\u001b[43mdaily\u001b[49m\u001b[38;5;241m.\u001b[39mindex, daily[\u001b[38;5;124m'\u001b[39m\u001b[38;5;124mNew Customers Acquired\u001b[39m\u001b[38;5;124m'\u001b[39m])\n\u001b[1;32m      8\u001b[0m \u001b[38;5;66;03m# set up the formatter to show MM/DD\u001b[39;00m\n\u001b[1;32m      9\u001b[0m ax\u001b[38;5;241m.\u001b[39mxaxis\u001b[38;5;241m.\u001b[39mset_major_formatter(mdates\u001b[38;5;241m.\u001b[39mDateFormatter(\u001b[38;5;124m'\u001b[39m\u001b[38;5;124m%\u001b[39m\u001b[38;5;124mm/\u001b[39m\u001b[38;5;132;01m%d\u001b[39;00m\u001b[38;5;124m'\u001b[39m))\n",
      "\u001b[0;31mNameError\u001b[0m: name 'daily' is not defined"
     ]
    },
    {
     "data": {
      "image/png": "[encoded data removed]",
      "text/plain": [
       "<Figure size 800x400 with 1 Axes>"
      ]
     },
     "metadata": {},
     "output_type": "display_data"
    }
   ],
   "source": [
    "import matplotlib.pyplot as plt\n",
    "import matplotlib.dates as mdates\n",
    "\n",
    "# assume `daily` is your DataFrame with a DatetimeIndex and a column called 'Orders'\n",
    "fig, ax = plt.subplots(figsize=(8,4))\n",
    "ax.plot(daily.index, daily['New Customers Acquired'])\n",
    "\n",
    "# set up the formatter to show MM/DD\n",
    "ax.xaxis.set_major_formatter(mdates.DateFormatter('%m/%d'))\n",
    "\n",
    "# optionally auto-rotate & align the tick labels\n",
    "fig.autofmt_xdate()\n",
    "\n",
    "ax.set_title('Sales')\n",
    "ax.set_xlabel('Date (MM/DD)')\n",
    "ax.set_ylabel('Orders')\n",
    "plt.show()\n"
   ]
  },
  {
   "cell_type": "code",
   "execution_count": 12,
   "id": "0a4ad3c3",
   "metadata": {},
   "outputs": [
    {
     "ename": "NameError",
     "evalue": "name 'daily' is not defined",
     "output_type": "error",
     "traceback": [
      "\u001b[0;31m---------------------------------------------------------------------------\u001b[0m",
      "\u001b[0;31mNameError\u001b[0m                                 Traceback (most recent call last)",
      "Cell \u001b[0;32mIn[12], line 16\u001b[0m\n\u001b[1;32m      6\u001b[0m metrics \u001b[38;5;241m=\u001b[39m [\n\u001b[1;32m      7\u001b[0m     \u001b[38;5;124m'\u001b[39m\u001b[38;5;124mOrders\u001b[39m\u001b[38;5;124m'\u001b[39m,\n\u001b[1;32m      8\u001b[0m     \u001b[38;5;124m'\u001b[39m\u001b[38;5;124mSales\u001b[39m\u001b[38;5;124m'\u001b[39m,\n\u001b[0;32m   (...)\u001b[0m\n\u001b[1;32m     12\u001b[0m     \u001b[38;5;66;03m# …etc\u001b[39;00m\n\u001b[1;32m     13\u001b[0m ]\n\u001b[1;32m     15\u001b[0m \u001b[38;5;66;03m# 2. Perform min–max normalization per column:\u001b[39;00m\n\u001b[0;32m---> 16\u001b[0m daily_norm \u001b[38;5;241m=\u001b[39m \u001b[43mdaily\u001b[49m[metrics]\u001b[38;5;241m.\u001b[39mcopy()\n\u001b[1;32m     17\u001b[0m \u001b[38;5;28;01mfor\u001b[39;00m col \u001b[38;5;129;01min\u001b[39;00m metrics:\n\u001b[1;32m     18\u001b[0m     col_min \u001b[38;5;241m=\u001b[39m daily_norm[col]\u001b[38;5;241m.\u001b[39mmin()\n",
      "\u001b[0;31mNameError\u001b[0m: name 'daily' is not defined"
     ]
    }
   ],
   "source": [
    "import pandas as pd\n",
    "import matplotlib.pyplot as plt\n",
    "import matplotlib.dates as mdates\n",
    "\n",
    "# 1. Select the metrics you want to compare\n",
    "metrics = [\n",
    "    'Orders',\n",
    "    'Sales',\n",
    "    'Average Order Value',\n",
    "    'ROAS',\n",
    "    'New Customers Acquired',\n",
    "    # …etc\n",
    "]\n",
    "\n",
    "# 2. Perform min–max normalization per column:\n",
    "daily_norm = daily[metrics].copy()\n",
    "for col in metrics:\n",
    "    col_min = daily_norm[col].min()\n",
    "    col_max = daily_norm[col].max()\n",
    "    daily_norm[col] = (daily_norm[col] - col_min) / (col_max - col_min)\n",
    "\n",
    "# 3. Plot all normalized series\n",
    "fig, ax = plt.subplots(figsize=(10, 5))\n",
    "for col in metrics:\n",
    "    ax.plot(daily_norm.index, daily_norm[col], label=col)\n",
    "\n",
    "# 4. Format x-axis as MM/DD\n",
    "ax.xaxis.set_major_formatter(mdates.DateFormatter('%m/%d'))\n",
    "fig.autofmt_xdate()\n",
    "\n",
    "# 5. Force y-axis from 0 to 1\n",
    "ax.set_ylim(0, 1)\n",
    "\n",
    "# 6. Labels, legend, layout\n",
    "ax.set_title('Daily Metrics (Min–Max Normalized)')\n",
    "ax.set_xlabel('Date (MM/DD)')\n",
    "ax.set_ylabel('Normalized Value (0–1)')\n",
    "ax.legend(loc='upper left', bbox_to_anchor=(1, 1))\n",
    "plt.tight_layout()\n",
    "plt.show()\n"
   ]
  },
  {
   "cell_type": "code",
   "execution_count": 13,
   "id": "8418b8e4",
   "metadata": {},
   "outputs": [
    {
     "ename": "NameError",
     "evalue": "name 'daily' is not defined",
     "output_type": "error",
     "traceback": [
      "\u001b[0;31m---------------------------------------------------------------------------\u001b[0m",
      "\u001b[0;31mNameError\u001b[0m                                 Traceback (most recent call last)",
      "Cell \u001b[0;32mIn[13], line 4\u001b[0m\n\u001b[1;32m      1\u001b[0m \u001b[38;5;28;01mimport\u001b[39;00m\u001b[38;5;250m \u001b[39m\u001b[38;5;21;01mmatplotlib\u001b[39;00m\u001b[38;5;21;01m.\u001b[39;00m\u001b[38;5;21;01mpyplot\u001b[39;00m\u001b[38;5;250m \u001b[39m\u001b[38;5;28;01mas\u001b[39;00m\u001b[38;5;250m \u001b[39m\u001b[38;5;21;01mplt\u001b[39;00m\n\u001b[1;32m      2\u001b[0m \u001b[38;5;28;01mimport\u001b[39;00m\u001b[38;5;250m \u001b[39m\u001b[38;5;21;01mnumpy\u001b[39;00m\u001b[38;5;250m \u001b[39m\u001b[38;5;28;01mas\u001b[39;00m\u001b[38;5;250m \u001b[39m\u001b[38;5;21;01mnp\u001b[39;00m\n\u001b[0;32m----> 4\u001b[0m corr \u001b[38;5;241m=\u001b[39m \u001b[43mdaily\u001b[49m[metrics]\u001b[38;5;241m.\u001b[39mcorr()\n\u001b[1;32m      5\u001b[0m fig, ax \u001b[38;5;241m=\u001b[39m plt\u001b[38;5;241m.\u001b[39msubplots(figsize\u001b[38;5;241m=\u001b[39m(\u001b[38;5;241m6\u001b[39m,\u001b[38;5;241m6\u001b[39m))\n\u001b[1;32m      6\u001b[0m cax \u001b[38;5;241m=\u001b[39m ax\u001b[38;5;241m.\u001b[39mmatshow(corr, vmin\u001b[38;5;241m=\u001b[39m\u001b[38;5;241m-\u001b[39m\u001b[38;5;241m1\u001b[39m, vmax\u001b[38;5;241m=\u001b[39m\u001b[38;5;241m1\u001b[39m)\n",
      "\u001b[0;31mNameError\u001b[0m: name 'daily' is not defined"
     ]
    }
   ],
   "source": [
    "import matplotlib.pyplot as plt\n",
    "import numpy as np\n",
    "\n",
    "corr = daily[metrics].corr()\n",
    "fig, ax = plt.subplots(figsize=(6,6))\n",
    "cax = ax.matshow(corr, vmin=-1, vmax=1)\n",
    "fig.colorbar(cax)\n",
    "ax.set_xticks(range(len(metrics)))\n",
    "ax.set_yticks(range(len(metrics)))\n",
    "ax.set_xticklabels(metrics, rotation=90)\n",
    "ax.set_yticklabels(metrics)\n",
    "plt.title(\"Metric Correlation\", pad=20)\n",
    "plt.tight_layout()\n",
    "plt.show()\n"
   ]
  },
  {
   "cell_type": "code",
   "execution_count": 14,
   "id": "98e7bea3",
   "metadata": {},
   "outputs": [
    {
     "ename": "ModuleNotFoundError",
     "evalue": "No module named 'statsmodels'",
     "output_type": "error",
     "traceback": [
      "\u001b[0;31m---------------------------------------------------------------------------\u001b[0m",
      "\u001b[0;31mModuleNotFoundError\u001b[0m                       Traceback (most recent call last)",
      "Cell \u001b[0;32mIn[14], line 1\u001b[0m\n\u001b[0;32m----> 1\u001b[0m \u001b[38;5;28;01mfrom\u001b[39;00m\u001b[38;5;250m \u001b[39m\u001b[38;5;21;01mstatsmodels\u001b[39;00m\u001b[38;5;21;01m.\u001b[39;00m\u001b[38;5;21;01mtsa\u001b[39;00m\u001b[38;5;21;01m.\u001b[39;00m\u001b[38;5;21;01mseasonal\u001b[39;00m\u001b[38;5;250m \u001b[39m\u001b[38;5;28;01mimport\u001b[39;00m seasonal_decompose\n\u001b[1;32m      3\u001b[0m decomp \u001b[38;5;241m=\u001b[39m seasonal_decompose(daily[\u001b[38;5;124m'\u001b[39m\u001b[38;5;124mOrders\u001b[39m\u001b[38;5;124m'\u001b[39m], model\u001b[38;5;241m=\u001b[39m\u001b[38;5;124m'\u001b[39m\u001b[38;5;124madditive\u001b[39m\u001b[38;5;124m'\u001b[39m, period\u001b[38;5;241m=\u001b[39m\u001b[38;5;241m7\u001b[39m)\n\u001b[1;32m      4\u001b[0m decomp\u001b[38;5;241m.\u001b[39mplot()\n",
      "\u001b[0;31mModuleNotFoundError\u001b[0m: No module named 'statsmodels'"
     ]
    }
   ],
   "source": [
    "from statsmodels.tsa.seasonal import seasonal_decompose\n",
    "\n",
    "decomp = seasonal_decompose(daily['Orders'], model='additive', period=7)\n",
    "decomp.plot()\n",
    "plt.show()\n"
   ]
  },
  {
   "cell_type": "code",
   "execution_count": 15,
   "id": "d1c78a63",
   "metadata": {},
   "outputs": [
    {
     "ename": "ModuleNotFoundError",
     "evalue": "No module named 'prophet'",
     "output_type": "error",
     "traceback": [
      "\u001b[0;31m---------------------------------------------------------------------------\u001b[0m",
      "\u001b[0;31mModuleNotFoundError\u001b[0m                       Traceback (most recent call last)",
      "Cell \u001b[0;32mIn[15], line 1\u001b[0m\n\u001b[0;32m----> 1\u001b[0m \u001b[38;5;28;01mfrom\u001b[39;00m\u001b[38;5;250m \u001b[39m\u001b[38;5;21;01mprophet\u001b[39;00m\u001b[38;5;250m \u001b[39m\u001b[38;5;28;01mimport\u001b[39;00m Prophet\n\u001b[1;32m      3\u001b[0m df_prophet \u001b[38;5;241m=\u001b[39m daily[\u001b[38;5;124m'\u001b[39m\u001b[38;5;124mOrders\u001b[39m\u001b[38;5;124m'\u001b[39m]\u001b[38;5;241m.\u001b[39mreset_index()\u001b[38;5;241m.\u001b[39mrename(columns\u001b[38;5;241m=\u001b[39m{\u001b[38;5;124m'\u001b[39m\u001b[38;5;124mDate\u001b[39m\u001b[38;5;124m'\u001b[39m:\u001b[38;5;124m'\u001b[39m\u001b[38;5;124mds\u001b[39m\u001b[38;5;124m'\u001b[39m, \u001b[38;5;124m'\u001b[39m\u001b[38;5;124mOrders\u001b[39m\u001b[38;5;124m'\u001b[39m:\u001b[38;5;124m'\u001b[39m\u001b[38;5;124my\u001b[39m\u001b[38;5;124m'\u001b[39m})\n\u001b[1;32m      4\u001b[0m m \u001b[38;5;241m=\u001b[39m Prophet(daily_seasonality\u001b[38;5;241m=\u001b[39m\u001b[38;5;28;01mTrue\u001b[39;00m)\n",
      "\u001b[0;31mModuleNotFoundError\u001b[0m: No module named 'prophet'"
     ]
    }
   ],
   "source": [
    "from prophet import Prophet\n",
    "\n",
    "df_prophet = daily['Orders'].reset_index().rename(columns={'Date':'ds', 'Orders':'y'})\n",
    "m = Prophet(daily_seasonality=True)\n",
    "m.fit(df_prophet)\n",
    "future = m.make_future_dataframe(periods=30)   # next 30 days\n",
    "forecast = m.predict(future)\n",
    "m.plot(forecast)\n",
    "plt.show()\n"
   ]
  },
  {
   "cell_type": "code",
   "execution_count": 16,
   "id": "0b052078",
   "metadata": {},
   "outputs": [
    {
     "ename": "ModuleNotFoundError",
     "evalue": "No module named 'sklearn'",
     "output_type": "error",
     "traceback": [
      "\u001b[0;31m---------------------------------------------------------------------------\u001b[0m",
      "\u001b[0;31mModuleNotFoundError\u001b[0m                       Traceback (most recent call last)",
      "Cell \u001b[0;32mIn[16], line 1\u001b[0m\n\u001b[0;32m----> 1\u001b[0m \u001b[38;5;28;01mfrom\u001b[39;00m\u001b[38;5;250m \u001b[39m\u001b[38;5;21;01msklearn\u001b[39;00m\u001b[38;5;21;01m.\u001b[39;00m\u001b[38;5;21;01mlinear_model\u001b[39;00m\u001b[38;5;250m \u001b[39m\u001b[38;5;28;01mimport\u001b[39;00m Ridge\n\u001b[1;32m      2\u001b[0m \u001b[38;5;28;01mfrom\u001b[39;00m\u001b[38;5;250m \u001b[39m\u001b[38;5;21;01msklearn\u001b[39;00m\u001b[38;5;21;01m.\u001b[39;00m\u001b[38;5;21;01mmodel_selection\u001b[39;00m\u001b[38;5;250m \u001b[39m\u001b[38;5;28;01mimport\u001b[39;00m train_test_split\n\u001b[1;32m      4\u001b[0m X \u001b[38;5;241m=\u001b[39m daily[[\u001b[38;5;124m'\u001b[39m\u001b[38;5;124mDoorsDash Marketing Credit\u001b[39m\u001b[38;5;124m'\u001b[39m, \u001b[38;5;124m'\u001b[39m\u001b[38;5;124mMarketing Fees | (Including any applicable taxes)\u001b[39m\u001b[38;5;124m'\u001b[39m]]\n",
      "\u001b[0;31mModuleNotFoundError\u001b[0m: No module named 'sklearn'"
     ]
    }
   ],
   "source": [
    "from sklearn.linear_model import Ridge\n",
    "from sklearn.model_selection import train_test_split\n",
    "\n",
    "X = daily[['DoorsDash Marketing Credit', 'Marketing Fees | (Including any applicable taxes)']]\n",
    "y = daily['Sales']\n",
    "X_train, X_test, y_train, y_test = train_test_split(X, y, random_state=0)\n",
    "model = Ridge(alpha=1.0).fit(X_train, y_train)\n",
    "print(\"Coefficients:\", model.coef_)\n",
    "print(\"R^2:\", model.score(X_test, y_test))\n"
   ]
  },
  {
   "cell_type": "code",
   "execution_count": 17,
   "id": "bfe4771d",
   "metadata": {},
   "outputs": [
    {
     "ename": "NameError",
     "evalue": "name 'daily' is not defined",
     "output_type": "error",
     "traceback": [
      "\u001b[0;31m---------------------------------------------------------------------------\u001b[0m",
      "\u001b[0;31mNameError\u001b[0m                                 Traceback (most recent call last)",
      "Cell \u001b[0;32mIn[17], line 1\u001b[0m\n\u001b[0;32m----> 1\u001b[0m daily[\u001b[38;5;124m'\u001b[39m\u001b[38;5;124mOrders_7d_ma\u001b[39m\u001b[38;5;124m'\u001b[39m] \u001b[38;5;241m=\u001b[39m \u001b[43mdaily\u001b[49m[\u001b[38;5;124m'\u001b[39m\u001b[38;5;124mOrders\u001b[39m\u001b[38;5;124m'\u001b[39m]\u001b[38;5;241m.\u001b[39mrolling(\u001b[38;5;241m7\u001b[39m)\u001b[38;5;241m.\u001b[39mmean()\n\u001b[1;32m      2\u001b[0m daily[\u001b[38;5;124m'\u001b[39m\u001b[38;5;124mOrders_7d_std\u001b[39m\u001b[38;5;124m'\u001b[39m] \u001b[38;5;241m=\u001b[39m daily[\u001b[38;5;124m'\u001b[39m\u001b[38;5;124mOrders\u001b[39m\u001b[38;5;124m'\u001b[39m]\u001b[38;5;241m.\u001b[39mrolling(\u001b[38;5;241m7\u001b[39m)\u001b[38;5;241m.\u001b[39mstd()\n",
      "\u001b[0;31mNameError\u001b[0m: name 'daily' is not defined"
     ]
    }
   ],
   "source": [
    "daily['Orders_7d_ma'] = daily['Orders'].rolling(7).mean()\n",
    "daily['Orders_7d_std'] = daily['Orders'].rolling(7).std()\n"
   ]
  }
 ],
 "metadata": {
  "kernelspec": {
   "display_name": "Python 3",
   "language": "python",
   "name": "python3"
  },
  "language_info": {
   "codemirror_mode": {
    "name": "ipython",
    "version": 3
   },
   "file_extension": ".py",
   "mimetype": "text/x-python",
   "name": "python",
   "nbconvert_exporter": "python",
   "pygments_lexer": "ipython3",
   "version": "3.9.6"
  }
 },
 "nbformat": 4,
 "nbformat_minor": 5
}
